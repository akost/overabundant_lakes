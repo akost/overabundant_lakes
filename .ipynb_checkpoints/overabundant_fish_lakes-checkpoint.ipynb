{
 "cells": [
  {
   "cell_type": "code",
   "execution_count": 58,
   "metadata": {},
   "outputs": [],
   "source": [
    "import requests, datetime, json\n",
    "from bs4 import BeautifulSoup\n",
    "\n",
    "def parse_table_from_page(txt):\n",
    "    # Return list of table entries on the page\n",
    "    soup = BeautifulSoup(txt)\n",
    "    tabulka = soup.find(\"table\", {\"class\" : \"tablesaw-stack\"})\n",
    "    rows = []\n",
    "    fields = ['name', 'area', 'elevation', 'county', 'location']\n",
    "    for row in tabulka.findAll('tr'):\n",
    "        col = row.findAll('td')\n",
    "        parts = [c for c in col]\n",
    "        r = dict(zip(fields, parts))\n",
    "        rows.append(r)\n",
    "    return rows\n",
    "\n",
    "def html_to_record(r):\n",
    "    # Turn HTML object for table row into a dict\n",
    "    name = next(r['name'].children).string\n",
    "    url = 'https://wdfw.wa.gov' + r['name'].findNext('a').get('href')\n",
    "    try: elevation = float(next(r['elevation'].children).string.split()[0])\n",
    "    except: elevation = None\n",
    "    county = next(r['county'].children).string.strip()\n",
    "    area = next(r['area'].children).string.strip()\n",
    "    try:\n",
    "        latlon = [x.string for x in r['location'].findAll('span')]\n",
    "        lat = float(latlon[0])\n",
    "        lon = float(latlon[1])\n",
    "    except: lat, lon = None, None\n",
    "    return dict(name=name, url=url, elevation=elevation, area=area, county=county, lat=lat, lon=lon)\n",
    "\n",
    "def get_lakes_from_all_pages(url_base):\n",
    "    # Scrape all pages\n",
    "    #url_base = 'https://wdfw.wa.gov/fishing/locations/high-lakes/overabundant?name=&county=All&order=title&sort=asc&page='\n",
    "    i = 0\n",
    "    all_records = []\n",
    "    while True:\n",
    "        print('Scraping page', i)\n",
    "        url = url_base + str(i)\n",
    "        r = requests.get(url)\n",
    "        txt = r.text\n",
    "        try: rows = parse_table_from_page(txt)\n",
    "        except: break\n",
    "        records = [html_to_record(rw) for rw in rows if rw]\n",
    "        if len(records)==0: break\n",
    "        all_records.extend(records)\n",
    "        i += 1\n",
    "    return all_records\n",
    "\n",
    "#all_records = get_lakes_from_all_pages()\n",
    "#print(len(all_records))\n"
   ]
  },
  {
   "cell_type": "code",
   "execution_count": 59,
   "metadata": {},
   "outputs": [],
   "source": [
    "all_url_base =          'https://wdfw.wa.gov/fishing/locations/high-lakes?name=&county=All&order=title&sort=asc&page='\n",
    "starting_url_base =     'https://wdfw.wa.gov/fishing/locations/high-lakes/getting-started?name=&county=All&order=title&sort=asc&page='\n",
    "overabundant_url_base = 'https://wdfw.wa.gov/fishing/locations/high-lakes/overabundant?name=&county=All&order=title&sort=asc&page='\n",
    "\n",
    "\n",
    "\n",
    "def get_data():\n",
    "    all_lakes = get_lakes_from_all_pages(all_url_base)\n",
    "    all_lakes = [lk for lk in all_lakes if lk['elevation']>2500.0]\n",
    "    overabundant_lakes = get_lakes_from_all_pages(overabundant_url_base)\n",
    "    starting_lakes = get_lakes_from_all_pages(starting_url_base)\n",
    "    overabundant_urls = set(lk['url'] for lk in overabundant_lakes)\n",
    "    starting_urls = set(lk['url'] for lk in starting_lakes)\n",
    "    for lk in all_lakes:\n",
    "        lk['starting'] = lk['url'] in starting_urls\n",
    "        lk['overabundant'] = lk['url'] in overabundant_urls\n",
    "    timestamp = datetime.datetime.now().strftime('%Y-%m-%d %H:%M:%S')\n",
    "    return dict(\n",
    "        lakes=all_lakes,\n",
    "        overabundant_lakes=[lk for lk in all_lakes if lk['overabundant']],\n",
    "        starting_lakes=[lk for lk in all_lakes if lk['starting']],\n",
    "        normal_lakes=[lk for lk in all_lakes if not lk['overabundant'] and not lk['overabundant']],\n",
    "        timestamp=timestamp\n",
    "    )\n",
    "\n"
   ]
  },
  {
   "cell_type": "code",
   "execution_count": 60,
   "metadata": {
    "scrolled": true
   },
   "outputs": [
    {
     "name": "stdout",
     "output_type": "stream",
     "text": [
      "Scraping page 0\n",
      "Scraping page 1\n",
      "Scraping page 2\n",
      "Scraping page 3\n",
      "Scraping page 4\n",
      "Scraping page 5\n",
      "Scraping page 6\n",
      "Scraping page 7\n",
      "Scraping page 8\n",
      "Scraping page 9\n",
      "Scraping page 10\n",
      "Scraping page 11\n",
      "Scraping page 12\n",
      "Scraping page 13\n",
      "Scraping page 14\n",
      "Scraping page 15\n",
      "Scraping page 16\n",
      "Scraping page 17\n"
     ]
    },
    {
     "ename": "IndexError",
     "evalue": "list index out of range",
     "output_type": "error",
     "traceback": [
      "\u001b[1;31m---------------------------------------------------------------------------\u001b[0m",
      "\u001b[1;31mIndexError\u001b[0m                                Traceback (most recent call last)",
      "\u001b[1;32m~\\AppData\\Local\\Temp/ipykernel_196/2073959468.py\u001b[0m in \u001b[0;36m<module>\u001b[1;34m\u001b[0m\n\u001b[1;32m----> 1\u001b[1;33m \u001b[0mall_lakes\u001b[0m \u001b[1;33m=\u001b[0m \u001b[0mget_lakes_from_all_pages\u001b[0m\u001b[1;33m(\u001b[0m\u001b[0mall_url_base\u001b[0m\u001b[1;33m)\u001b[0m\u001b[1;33m\u001b[0m\u001b[1;33m\u001b[0m\u001b[0m\n\u001b[0m\u001b[0;32m      2\u001b[0m \u001b[1;31m#all_lakes = [lk for lk in all_lakes if lk['elevation']>2500.0]\u001b[0m\u001b[1;33m\u001b[0m\u001b[1;33m\u001b[0m\u001b[1;33m\u001b[0m\u001b[0m\n\u001b[0;32m      3\u001b[0m \u001b[1;31m#overabundant_lakes = get_lakes_from_all_pages(overabundant_url_base)\u001b[0m\u001b[1;33m\u001b[0m\u001b[1;33m\u001b[0m\u001b[1;33m\u001b[0m\u001b[0m\n\u001b[0;32m      4\u001b[0m \u001b[1;31m#starting_lakes = get_lakes_from_all_pages(starting_url_base)\u001b[0m\u001b[1;33m\u001b[0m\u001b[1;33m\u001b[0m\u001b[1;33m\u001b[0m\u001b[0m\n\u001b[0;32m      5\u001b[0m \u001b[1;31m#overabundant_urls = set(lk['url'] for lk in overabundant_lakes)\u001b[0m\u001b[1;33m\u001b[0m\u001b[1;33m\u001b[0m\u001b[1;33m\u001b[0m\u001b[0m\n",
      "\u001b[1;32m~\\AppData\\Local\\Temp/ipykernel_196/1218667492.py\u001b[0m in \u001b[0;36mget_lakes_from_all_pages\u001b[1;34m(url_base)\u001b[0m\n\u001b[0;32m     37\u001b[0m         \u001b[1;32mtry\u001b[0m\u001b[1;33m:\u001b[0m \u001b[0mrows\u001b[0m \u001b[1;33m=\u001b[0m \u001b[0mparse_table_from_page\u001b[0m\u001b[1;33m(\u001b[0m\u001b[0mtxt\u001b[0m\u001b[1;33m)\u001b[0m\u001b[1;33m\u001b[0m\u001b[1;33m\u001b[0m\u001b[0m\n\u001b[0;32m     38\u001b[0m         \u001b[1;32mexcept\u001b[0m\u001b[1;33m:\u001b[0m \u001b[1;32mbreak\u001b[0m\u001b[1;33m\u001b[0m\u001b[1;33m\u001b[0m\u001b[0m\n\u001b[1;32m---> 39\u001b[1;33m         \u001b[0mrecords\u001b[0m \u001b[1;33m=\u001b[0m \u001b[1;33m[\u001b[0m\u001b[0mhtml_to_record\u001b[0m\u001b[1;33m(\u001b[0m\u001b[0mrw\u001b[0m\u001b[1;33m)\u001b[0m \u001b[1;32mfor\u001b[0m \u001b[0mrw\u001b[0m \u001b[1;32min\u001b[0m \u001b[0mrows\u001b[0m \u001b[1;32mif\u001b[0m \u001b[0mrw\u001b[0m\u001b[1;33m]\u001b[0m\u001b[1;33m\u001b[0m\u001b[1;33m\u001b[0m\u001b[0m\n\u001b[0m\u001b[0;32m     40\u001b[0m         \u001b[1;32mif\u001b[0m \u001b[0mlen\u001b[0m\u001b[1;33m(\u001b[0m\u001b[0mrecords\u001b[0m\u001b[1;33m)\u001b[0m\u001b[1;33m==\u001b[0m\u001b[1;36m0\u001b[0m\u001b[1;33m:\u001b[0m \u001b[1;32mbreak\u001b[0m\u001b[1;33m\u001b[0m\u001b[1;33m\u001b[0m\u001b[0m\n\u001b[0;32m     41\u001b[0m         \u001b[0mall_records\u001b[0m\u001b[1;33m.\u001b[0m\u001b[0mextend\u001b[0m\u001b[1;33m(\u001b[0m\u001b[0mrecords\u001b[0m\u001b[1;33m)\u001b[0m\u001b[1;33m\u001b[0m\u001b[1;33m\u001b[0m\u001b[0m\n",
      "\u001b[1;32m~\\AppData\\Local\\Temp/ipykernel_196/1218667492.py\u001b[0m in \u001b[0;36m<listcomp>\u001b[1;34m(.0)\u001b[0m\n\u001b[0;32m     37\u001b[0m         \u001b[1;32mtry\u001b[0m\u001b[1;33m:\u001b[0m \u001b[0mrows\u001b[0m \u001b[1;33m=\u001b[0m \u001b[0mparse_table_from_page\u001b[0m\u001b[1;33m(\u001b[0m\u001b[0mtxt\u001b[0m\u001b[1;33m)\u001b[0m\u001b[1;33m\u001b[0m\u001b[1;33m\u001b[0m\u001b[0m\n\u001b[0;32m     38\u001b[0m         \u001b[1;32mexcept\u001b[0m\u001b[1;33m:\u001b[0m \u001b[1;32mbreak\u001b[0m\u001b[1;33m\u001b[0m\u001b[1;33m\u001b[0m\u001b[0m\n\u001b[1;32m---> 39\u001b[1;33m         \u001b[0mrecords\u001b[0m \u001b[1;33m=\u001b[0m \u001b[1;33m[\u001b[0m\u001b[0mhtml_to_record\u001b[0m\u001b[1;33m(\u001b[0m\u001b[0mrw\u001b[0m\u001b[1;33m)\u001b[0m \u001b[1;32mfor\u001b[0m \u001b[0mrw\u001b[0m \u001b[1;32min\u001b[0m \u001b[0mrows\u001b[0m \u001b[1;32mif\u001b[0m \u001b[0mrw\u001b[0m\u001b[1;33m]\u001b[0m\u001b[1;33m\u001b[0m\u001b[1;33m\u001b[0m\u001b[0m\n\u001b[0m\u001b[0;32m     40\u001b[0m         \u001b[1;32mif\u001b[0m \u001b[0mlen\u001b[0m\u001b[1;33m(\u001b[0m\u001b[0mrecords\u001b[0m\u001b[1;33m)\u001b[0m\u001b[1;33m==\u001b[0m\u001b[1;36m0\u001b[0m\u001b[1;33m:\u001b[0m \u001b[1;32mbreak\u001b[0m\u001b[1;33m\u001b[0m\u001b[1;33m\u001b[0m\u001b[0m\n\u001b[0;32m     41\u001b[0m         \u001b[0mall_records\u001b[0m\u001b[1;33m.\u001b[0m\u001b[0mextend\u001b[0m\u001b[1;33m(\u001b[0m\u001b[0mrecords\u001b[0m\u001b[1;33m)\u001b[0m\u001b[1;33m\u001b[0m\u001b[1;33m\u001b[0m\u001b[0m\n",
      "\u001b[1;32m~\\AppData\\Local\\Temp/ipykernel_196/1218667492.py\u001b[0m in \u001b[0;36mhtml_to_record\u001b[1;34m(r)\u001b[0m\n\u001b[0;32m     23\u001b[0m     \u001b[0marea\u001b[0m \u001b[1;33m=\u001b[0m \u001b[0mnext\u001b[0m\u001b[1;33m(\u001b[0m\u001b[0mr\u001b[0m\u001b[1;33m[\u001b[0m\u001b[1;34m'area'\u001b[0m\u001b[1;33m]\u001b[0m\u001b[1;33m.\u001b[0m\u001b[0mchildren\u001b[0m\u001b[1;33m)\u001b[0m\u001b[1;33m.\u001b[0m\u001b[0mstring\u001b[0m\u001b[1;33m.\u001b[0m\u001b[0mstrip\u001b[0m\u001b[1;33m(\u001b[0m\u001b[1;33m)\u001b[0m\u001b[1;33m\u001b[0m\u001b[1;33m\u001b[0m\u001b[0m\n\u001b[0;32m     24\u001b[0m     \u001b[0mlatlon\u001b[0m \u001b[1;33m=\u001b[0m \u001b[1;33m[\u001b[0m\u001b[0mx\u001b[0m\u001b[1;33m.\u001b[0m\u001b[0mstring\u001b[0m \u001b[1;32mfor\u001b[0m \u001b[0mx\u001b[0m \u001b[1;32min\u001b[0m \u001b[0mr\u001b[0m\u001b[1;33m[\u001b[0m\u001b[1;34m'location'\u001b[0m\u001b[1;33m]\u001b[0m\u001b[1;33m.\u001b[0m\u001b[0mfindAll\u001b[0m\u001b[1;33m(\u001b[0m\u001b[1;34m'span'\u001b[0m\u001b[1;33m)\u001b[0m\u001b[1;33m]\u001b[0m\u001b[1;33m\u001b[0m\u001b[1;33m\u001b[0m\u001b[0m\n\u001b[1;32m---> 25\u001b[1;33m     \u001b[1;32mreturn\u001b[0m \u001b[0mdict\u001b[0m\u001b[1;33m(\u001b[0m\u001b[0mname\u001b[0m\u001b[1;33m=\u001b[0m\u001b[0mname\u001b[0m\u001b[1;33m,\u001b[0m \u001b[0murl\u001b[0m\u001b[1;33m=\u001b[0m\u001b[0murl\u001b[0m\u001b[1;33m,\u001b[0m \u001b[0melevation\u001b[0m\u001b[1;33m=\u001b[0m\u001b[0melevation\u001b[0m\u001b[1;33m,\u001b[0m \u001b[0marea\u001b[0m\u001b[1;33m=\u001b[0m\u001b[0marea\u001b[0m\u001b[1;33m,\u001b[0m \u001b[0mcounty\u001b[0m\u001b[1;33m=\u001b[0m\u001b[0mcounty\u001b[0m\u001b[1;33m,\u001b[0m \u001b[0mlat\u001b[0m\u001b[1;33m=\u001b[0m\u001b[0mfloat\u001b[0m\u001b[1;33m(\u001b[0m\u001b[0mlatlon\u001b[0m\u001b[1;33m[\u001b[0m\u001b[1;36m0\u001b[0m\u001b[1;33m]\u001b[0m\u001b[1;33m)\u001b[0m\u001b[1;33m,\u001b[0m \u001b[0mlon\u001b[0m\u001b[1;33m=\u001b[0m\u001b[0mfloat\u001b[0m\u001b[1;33m(\u001b[0m\u001b[0mlatlon\u001b[0m\u001b[1;33m[\u001b[0m\u001b[1;36m1\u001b[0m\u001b[1;33m]\u001b[0m\u001b[1;33m)\u001b[0m\u001b[1;33m)\u001b[0m\u001b[1;33m\u001b[0m\u001b[1;33m\u001b[0m\u001b[0m\n\u001b[0m\u001b[0;32m     26\u001b[0m \u001b[1;33m\u001b[0m\u001b[0m\n\u001b[0;32m     27\u001b[0m \u001b[1;32mdef\u001b[0m \u001b[0mget_lakes_from_all_pages\u001b[0m\u001b[1;33m(\u001b[0m\u001b[0murl_base\u001b[0m\u001b[1;33m)\u001b[0m\u001b[1;33m:\u001b[0m\u001b[1;33m\u001b[0m\u001b[1;33m\u001b[0m\u001b[0m\n",
      "\u001b[1;31mIndexError\u001b[0m: list index out of range"
     ]
    }
   ],
   "source": [
    "all_lakes = get_lakes_from_all_pages(all_url_base)\n",
    "#all_lakes = [lk for lk in all_lakes if lk['elevation']>2500.0]\n",
    "#overabundant_lakes = get_lakes_from_all_pages(overabundant_url_base)\n",
    "#starting_lakes = get_lakes_from_all_pages(starting_url_base)\n",
    "#overabundant_urls = set(lk['url'] for lk in overabundant_lakes)\n",
    "#starting_urls = set(lk['url'] for lk in starting_lakes)\n",
    "#len(all_lakes)#,\n",
    "len(overabundant_lakes), len(starting_lakes)"
   ]
  },
  {
   "cell_type": "code",
   "execution_count": 28,
   "metadata": {},
   "outputs": [],
   "source": [
    "data = get_data()"
   ]
  },
  {
   "cell_type": "code",
   "execution_count": 39,
   "metadata": {
    "scrolled": true
   },
   "outputs": [
    {
     "data": {
      "text/plain": [
       "{'name': 'Bench',\n",
       " 'url': 'https://wdfw.wa.gov/fishing/locations/high-lakes/bench',\n",
       " 'elevation': 4185.0,\n",
       " 'area': '2.90 acres',\n",
       " 'county': 'King',\n",
       " 'lat': 47.656379,\n",
       " 'lon': -121.501307,\n",
       " 'starting': True,\n",
       " 'overabundant': True}"
      ]
     },
     "execution_count": 39,
     "metadata": {},
     "output_type": "execute_result"
    }
   ],
   "source": [
    "data['lakes'][10]"
   ]
  },
  {
   "cell_type": "code",
   "execution_count": null,
   "metadata": {},
   "outputs": [],
   "source": []
  },
  {
   "cell_type": "code",
   "execution_count": 30,
   "metadata": {},
   "outputs": [
    {
     "data": {
      "text/plain": [
       "49"
      ]
     },
     "execution_count": 30,
     "metadata": {},
     "output_type": "execute_result"
    }
   ],
   "source": [
    "output = json.dumps(dict(lakes=data['lakes'], timestamp=data['timestamp']))#data)\n",
    "open('data.json', 'w').write(output)\n",
    "open('data/starting_lakes.json', 'w').write(json.dumps(\n",
    "    dict(lakes=data['starting_lakes'], timestamp=data['timestamp'])\n",
    "))\n",
    "open('data/overabundant_lakes.json', 'w').write(json.dumps(\n",
    "    dict(lakes=data['overabundant_lakes'], timestamp=data['timestamp'])\n",
    "))\n",
    "open('data/normal_lakes.json', 'w').write(json.dumps(\n",
    "    dict(lakes=data['normal_lakes'], timestamp=data['timestamp'])\n",
    "))\n"
   ]
  },
  {
   "cell_type": "code",
   "execution_count": 33,
   "metadata": {},
   "outputs": [],
   "source": [
    "import simplekml\n",
    "\n",
    "def lake2marker_html(lk):\n",
    "  link = '<a target=\\\"_blank\\\" href=\\\"'+lk['url']+'\\\">WDFW Page</a>'\n",
    "  elevation = '<p>Elevation: '+str(round(lk['elevation']))+'ft' + '</p>'\n",
    "  county = '<p>County: '+lk['county']+'</p>'\n",
    "  size = '<p>Size: '+str(lk['area'])+' </p>'\n",
    "  return elevation + county + size + link\n",
    "\n",
    "def get_kml(lakes):\n",
    "  kml = simplekml.Kml()\n",
    "  kml.parsetext(parse=False)\n",
    "  for lk in lakes:\n",
    "    desc = lake2marker_html(lk)\n",
    "    coords = [(lk['lon'],lk['lat'])]\n",
    "    pnt = kml.newpoint(name=lk['name'].replace('&', ' and '), coords=coords, description=desc)\n",
    "  return kml"
   ]
  },
  {
   "cell_type": "code",
   "execution_count": 34,
   "metadata": {
    "scrolled": true
   },
   "outputs": [],
   "source": [
    "starting_kml = get_kml(data['starting_lakes'])\n",
    "starting_kml.save(\"data/starting_lakes.kml\")\n",
    "overabundant_kml = get_kml(data['overabundant_lakes'])\n",
    "overabundant_kml.save(\"data/overabundant_lakes.kml\")\n",
    "all_kml = get_kml(data['lakes'])\n",
    "all_kml.save(\"data/all_lakes.kml\")"
   ]
  },
  {
   "cell_type": "code",
   "execution_count": null,
   "metadata": {},
   "outputs": [],
   "source": []
  },
  {
   "cell_type": "code",
   "execution_count": 2,
   "metadata": {},
   "outputs": [
    {
     "data": {
      "application/vnd.jupyter.widget-view+json": {
       "model_id": "421a67e20c014eeca7727a369a27fa65",
       "version_major": 2,
       "version_minor": 0
      },
      "text/plain": [
       "Figure(layout=FigureLayout(height='420px'))"
      ]
     },
     "metadata": {},
     "output_type": "display_data"
    }
   ],
   "source": [
    "\n",
    "old_gmaps_Stuff = '''\n",
    "import gmaps\n",
    "import os\n",
    "\n",
    "# Check https://github.com/pbugnion/gmaps/blob/master/docs/source/tutorial.rst\n",
    "# for more documentation on the gmaps library\n",
    "\n",
    "api_key = os.environ['GOOGLE_MAPS_API_KEY']\n",
    "\n",
    "gmaps.configure(api_key=api_key)\n",
    "\n",
    "info_box_template = \"\"\"\n",
    "<dl>\n",
    "<dt>Name</dt><dd><a href=\"{url}\">{name}</a></dd>\n",
    "<dt>Elevation</dt><dd>{elevation}</dd>\n",
    "</dl>\n",
    "\"\"\"\n",
    "\n",
    "marker_locs = [(r['lat'], r['lon']) for r in all_records]\n",
    "boxes = [info_box_template.format(**rec) for rec in all_records]\n",
    "\n",
    "markers = gmaps.marker_layer(marker_locs, info_box_content=boxes)\n",
    "fig = gmaps.figure()\n",
    "fig.add_layer(markers)\n",
    "fig\n",
    "'''"
   ]
  },
  {
   "cell_type": "code",
   "execution_count": null,
   "metadata": {},
   "outputs": [],
   "source": []
  }
 ],
 "metadata": {
  "kernelspec": {
   "display_name": "Python 3 (ipykernel)",
   "language": "python",
   "name": "python3"
  },
  "language_info": {
   "codemirror_mode": {
    "name": "ipython",
    "version": 3
   },
   "file_extension": ".py",
   "mimetype": "text/x-python",
   "name": "python",
   "nbconvert_exporter": "python",
   "pygments_lexer": "ipython3",
   "version": "3.8.8"
  }
 },
 "nbformat": 4,
 "nbformat_minor": 2
}
