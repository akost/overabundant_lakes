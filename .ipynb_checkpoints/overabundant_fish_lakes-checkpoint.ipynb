{
 "cells": [
  {
   "cell_type": "code",
   "execution_count": 27,
   "metadata": {},
   "outputs": [],
   "source": [
    "import requests, datetime, json\n",
    "from bs4 import BeautifulSoup\n",
    "\n",
    "def parse_table_from_page(txt):\n",
    "    # Return list of table entries on the page\n",
    "    soup = BeautifulSoup(txt)\n",
    "    tabulka = soup.find(\"table\", {\"class\" : \"tablesaw-stack\"})\n",
    "    rows = []\n",
    "    fields = ['name', 'area', 'elevation', 'county', 'location']\n",
    "    for row in tabulka.findAll('tr'):\n",
    "        col = row.findAll('td')\n",
    "        parts = [c for c in col]\n",
    "        r = dict(zip(fields, parts))\n",
    "        rows.append(r)\n",
    "    return rows\n",
    "\n",
    "def html_to_record(r):\n",
    "    # Turn HTML object for table row into a dict\n",
    "    name = next(r['name'].children).string\n",
    "    url = 'https://wdfw.wa.gov' + r['name'].findNext('a').get('href')\n",
    "    elevation = next(r['elevation'].children).string.split()[0]\n",
    "    county = next(r['county'].children).string.strip()\n",
    "    area = next(r['area'].children).string.strip()\n",
    "    latlon = [x.string for x in r['location'].findAll('span')]\n",
    "    return dict(name=name, url=url, elevation=float(elevation), area=area, county=county, lat=float(latlon[0]), lon=float(latlon[1]))\n",
    "\n",
    "def get_lakes_from_all_pages(url_base):\n",
    "    # Scrape all pages\n",
    "    url_base = 'https://wdfw.wa.gov/fishing/locations/high-lakes/overabundant?name=&county=All&order=title&sort=asc&page='\n",
    "    i = 0\n",
    "    all_records = []\n",
    "    while True:\n",
    "        url = url_base + str(i)\n",
    "        r = requests.get(url)\n",
    "        txt = r.text\n",
    "        try: rows = parse_table_from_page(txt)\n",
    "        except: break\n",
    "        records = [html_to_record(rw) for rw in rows if rw]\n",
    "        if len(records)==0: break\n",
    "        all_records.extend(records)\n",
    "        i += 1\n",
    "    return all_records\n",
    "\n",
    "#all_records = get_lakes_from_all_pages()\n",
    "#print(len(all_records))\n"
   ]
  },
  {
   "cell_type": "code",
   "execution_count": 10,
   "metadata": {},
   "outputs": [],
   "source": [
    "starting_url_base = 'https://wdfw.wa.gov/fishing/locations/high-lakes/getting-started?name=&county=All&order=title&sort=asc&page='\n",
    "\n",
    "overabundant_url_base = 'https://wdfw.wa.gov/fishing/locations/high-lakes/overabundant?name=&county=All&order=title&sort=asc&page='\n",
    "\n",
    "all_url_base = 'https://wdfw.wa.gov/fishing/locations/high-lakes?name=&county=All&order=title&sort=asc&page='\n",
    "\n",
    "\n",
    "def get_data():\n",
    "    all_lakes = get_lakes_from_all_pages(all_url_base)\n",
    "    all_lakes = [lk for lk in all_lakes if lk['elevation']>2500.0]\n",
    "    overabundant_lakes = get_lakes_from_all_pages(overabundant_url_base)\n",
    "    starting_lakes = get_lakes_from_all_pages(starting_url_base)\n",
    "    overabundant_urls = set(lk['url'] for lk in overabundant_lakes)\n",
    "    starting_urls = set(lk['url'] for lk in starting_lakes)\n",
    "    for lk in all_lakes:\n",
    "        lk['starting'] = lk['url'] in starting_urls\n",
    "        lk['overabundant'] = lk['url'] in overabundant_urls\n",
    "    timestamp = datetime.datetime.now().strftime('%Y-%m-%d %H:%M:%S')\n",
    "    return dict(\n",
    "        lakes=all_lakes,\n",
    "        overabundant_lakes=[lk for lk in all_lakes if lk['overabundant']],\n",
    "        starting_lakes=[lk for lk in all_lakes if lk['starting']],\n",
    "        normal_lakes=[lk for lk in all_lakes if not lk['overabundant'] and not lk['overabundant']],\n",
    "        timestamp=timestamp\n",
    "    )\n",
    "\n"
   ]
  },
  {
   "cell_type": "code",
   "execution_count": 28,
   "metadata": {},
   "outputs": [],
   "source": [
    "data = get_data()"
   ]
  },
  {
   "cell_type": "code",
   "execution_count": 29,
   "metadata": {
    "scrolled": true
   },
   "outputs": [
    {
     "data": {
      "text/plain": [
       "{'name': 'Airplane',\n",
       " 'url': 'https://wdfw.wa.gov/fishing/locations/high-lakes/airplane',\n",
       " 'elevation': 5305.0,\n",
       " 'area': '9.40 acres',\n",
       " 'county': 'Chelan',\n",
       " 'lat': 48.002594,\n",
       " 'lon': -121.006674,\n",
       " 'starting': True,\n",
       " 'overabundant': True}"
      ]
     },
     "execution_count": 29,
     "metadata": {},
     "output_type": "execute_result"
    }
   ],
   "source": [
    "data['overabundant_lakes'][0]"
   ]
  },
  {
   "cell_type": "code",
   "execution_count": null,
   "metadata": {},
   "outputs": [],
   "source": []
  },
  {
   "cell_type": "code",
   "execution_count": 30,
   "metadata": {},
   "outputs": [
    {
     "data": {
      "text/plain": [
       "49"
      ]
     },
     "execution_count": 30,
     "metadata": {},
     "output_type": "execute_result"
    }
   ],
   "source": [
    "output = json.dumps(dict(lakes=data['lakes'], timestamp=data['timestamp']))#data)\n",
    "open('data.json', 'w').write(output)\n",
    "open('data/starting_lakes.json', 'w').write(json.dumps(\n",
    "    dict(lakes=data['starting_lakes'], timestamp=data['timestamp'])\n",
    "))\n",
    "open('data/overabundant_lakes.json', 'w').write(json.dumps(\n",
    "    dict(lakes=data['overabundant_lakes'], timestamp=data['timestamp'])\n",
    "))\n",
    "open('data/normal_lakes.json', 'w').write(json.dumps(\n",
    "    dict(lakes=data['normal_lakes'], timestamp=data['timestamp'])\n",
    "))\n"
   ]
  },
  {
   "cell_type": "code",
   "execution_count": 33,
   "metadata": {},
   "outputs": [],
   "source": [
    "import simplekml\n",
    "\n",
    "def lake2marker_html(lk):\n",
    "  link = '<a target=\\\"_blank\\\" href=\\\"'+lk['url']+'\\\">WDFW Page</a>'\n",
    "  elevation = '<p>Elevation: '+str(round(lk['elevation']))+'ft' + '</p>'\n",
    "  county = '<p>County: '+lk['county']+'</p>'\n",
    "  size = '<p>Size: '+str(lk['area'])+' </p>'\n",
    "  return elevation + county + size + link\n",
    "\n",
    "def get_kml(lakes):\n",
    "  kml = simplekml.Kml()\n",
    "  kml.parsetext(parse=False)\n",
    "  for lk in lakes:\n",
    "    desc = lake2marker_html(lk)\n",
    "    coords = [(lk['lon'],lk['lat'])]\n",
    "    pnt = kml.newpoint(name=lk['name'].replace('&', ' and '), coords=coords, description=desc)\n",
    "  return kml"
   ]
  },
  {
   "cell_type": "code",
   "execution_count": 34,
   "metadata": {
    "scrolled": true
   },
   "outputs": [],
   "source": [
    "starting_kml = get_kml(data['starting_lakes'])\n",
    "starting_kml.save(\"data/starting_lakes.kml\")\n",
    "overabundant_kml = get_kml(data['overabundant_lakes'])\n",
    "overabundant_kml.save(\"data/overabundant_lakes.kml\")\n",
    "all_kml = get_kml(data['lakes'])\n",
    "all_kml.save(\"data/all_lakes.kml\")"
   ]
  },
  {
   "cell_type": "code",
   "execution_count": null,
   "metadata": {},
   "outputs": [],
   "source": []
  },
  {
   "cell_type": "code",
   "execution_count": 2,
   "metadata": {},
   "outputs": [
    {
     "data": {
      "application/vnd.jupyter.widget-view+json": {
       "model_id": "421a67e20c014eeca7727a369a27fa65",
       "version_major": 2,
       "version_minor": 0
      },
      "text/plain": [
       "Figure(layout=FigureLayout(height='420px'))"
      ]
     },
     "metadata": {},
     "output_type": "display_data"
    }
   ],
   "source": [
    "\n",
    "old_gmaps_Stuff = '''\n",
    "import gmaps\n",
    "import os\n",
    "\n",
    "# Check https://github.com/pbugnion/gmaps/blob/master/docs/source/tutorial.rst\n",
    "# for more documentation on the gmaps library\n",
    "\n",
    "api_key = os.environ['GOOGLE_MAPS_API_KEY']\n",
    "\n",
    "gmaps.configure(api_key=api_key)\n",
    "\n",
    "info_box_template = \"\"\"\n",
    "<dl>\n",
    "<dt>Name</dt><dd><a href=\"{url}\">{name}</a></dd>\n",
    "<dt>Elevation</dt><dd>{elevation}</dd>\n",
    "</dl>\n",
    "\"\"\"\n",
    "\n",
    "marker_locs = [(r['lat'], r['lon']) for r in all_records]\n",
    "boxes = [info_box_template.format(**rec) for rec in all_records]\n",
    "\n",
    "markers = gmaps.marker_layer(marker_locs, info_box_content=boxes)\n",
    "fig = gmaps.figure()\n",
    "fig.add_layer(markers)\n",
    "fig\n",
    "'''"
   ]
  },
  {
   "cell_type": "code",
   "execution_count": null,
   "metadata": {},
   "outputs": [],
   "source": []
  }
 ],
 "metadata": {
  "kernelspec": {
   "display_name": "Python 3 (ipykernel)",
   "language": "python",
   "name": "python3"
  },
  "language_info": {
   "codemirror_mode": {
    "name": "ipython",
    "version": 3
   },
   "file_extension": ".py",
   "mimetype": "text/x-python",
   "name": "python",
   "nbconvert_exporter": "python",
   "pygments_lexer": "ipython3",
   "version": "3.8.8"
  }
 },
 "nbformat": 4,
 "nbformat_minor": 2
}
