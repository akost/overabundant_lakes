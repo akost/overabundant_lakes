{
 "cells": [
  {
   "cell_type": "code",
   "execution_count": 1,
   "metadata": {},
   "outputs": [
    {
     "name": "stdout",
     "output_type": "stream",
     "text": [
      "186\n"
     ]
    }
   ],
   "source": [
    "import requests\n",
    "from bs4 import BeautifulSoup\n",
    "\n",
    "def parse_table_from_page(txt):\n",
    "    # Return list of table entries on the page\n",
    "    soup = BeautifulSoup(txt)\n",
    "    tabulka = soup.find(\"table\", {\"class\" : \"tablesaw-stack\"})\n",
    "    rows = []\n",
    "    fields = ['name', 'acres', 'elevation', 'county', 'location']\n",
    "    for row in tabulka.findAll('tr'):\n",
    "        col = row.findAll('td')\n",
    "        parts = [c for c in col]\n",
    "        r = dict(zip(fields, parts))\n",
    "        rows.append(r)\n",
    "    return rows\n",
    "\n",
    "def html_to_record(r):\n",
    "    # Turn HTML object for table row into a dict\n",
    "    name = next(r['name'].children).string\n",
    "    url = 'https://wdfw.wa.gov' + r['name'].findNext('a').get('href')\n",
    "    elevation = next(r['elevation'].children).string.split()[0]\n",
    "    county = next(r['county'].children).string.strip()\n",
    "    latlon = [x.string for x in r['location'].findAll('span')]\n",
    "    return dict(name=name, url=url, elevation=float(elevation), county=county, lat=float(latlon[0]), lon=float(latlon[1]))\n",
    "\n",
    "def get_lakes_from_all_pages():\n",
    "    # Scrape all pages\n",
    "    url_base = 'https://wdfw.wa.gov/fishing/locations/high-lakes/overabundant?name=&county=All&order=title&sort=asc&page='\n",
    "    i = 0\n",
    "    all_records = []\n",
    "    while True:\n",
    "        url = url_base + str(i)\n",
    "        r = requests.get(url)\n",
    "        txt = r.text\n",
    "        try: rows = parse_table_from_page(txt)\n",
    "        except: break\n",
    "        records = [html_to_record(rw) for rw in rows if rw]\n",
    "        if len(records)==0: break\n",
    "        all_records.extend(records)\n",
    "        i += 1\n",
    "    return all_records\n",
    "\n",
    "all_records = get_lakes_from_all_pages()\n",
    "print(len(all_records))\n"
   ]
  },
  {
   "cell_type": "code",
   "execution_count": 2,
   "metadata": {},
   "outputs": [
    {
     "data": {
      "application/vnd.jupyter.widget-view+json": {
       "model_id": "421a67e20c014eeca7727a369a27fa65",
       "version_major": 2,
       "version_minor": 0
      },
      "text/plain": [
       "Figure(layout=FigureLayout(height='420px'))"
      ]
     },
     "metadata": {},
     "output_type": "display_data"
    }
   ],
   "source": [
    "import gmaps\n",
    "import os\n",
    "\n",
    "# Check https://github.com/pbugnion/gmaps/blob/master/docs/source/tutorial.rst\n",
    "# for more documentation on the gmaps library\n",
    "\n",
    "api_key = os.environ['GOOGLE_MAPS_API_KEY']\n",
    "\n",
    "gmaps.configure(api_key=api_key)\n",
    "\n",
    "info_box_template = '''\n",
    "<dl>\n",
    "<dt>Name</dt><dd><a href=\"{url}\">{name}</a></dd>\n",
    "<dt>Elevation</dt><dd>{elevation}</dd>\n",
    "</dl>\n",
    "'''\n",
    "\n",
    "marker_locs = [(r['lat'], r['lon']) for r in all_records]\n",
    "boxes = [info_box_template.format(**rec) for rec in all_records]\n",
    "\n",
    "markers = gmaps.marker_layer(marker_locs, info_box_content=boxes)\n",
    "fig = gmaps.figure()\n",
    "fig.add_layer(markers)\n",
    "fig"
   ]
  },
  {
   "cell_type": "code",
   "execution_count": null,
   "metadata": {},
   "outputs": [],
   "source": []
  }
 ],
 "metadata": {
  "kernelspec": {
   "display_name": "Python 3",
   "language": "python",
   "name": "python3"
  },
  "language_info": {
   "codemirror_mode": {
    "name": "ipython",
    "version": 3
   },
   "file_extension": ".py",
   "mimetype": "text/x-python",
   "name": "python",
   "nbconvert_exporter": "python",
   "pygments_lexer": "ipython3",
   "version": "3.6.8"
  }
 },
 "nbformat": 4,
 "nbformat_minor": 2
}
